{
 "cells": [
  {
   "cell_type": "markdown",
   "metadata": {
    "collapsed": true
   },
   "source": [
    "# Capstone Project-The Battle of Neighborhoods\n",
    "### Applied Data Science Capstone by IBM/Coursera"
   ]
  },
  {
   "cell_type": "markdown",
   "metadata": {},
   "source": [
    "__________________________________________________________________________________________________________________________________________________________________________________________________________________________"
   ]
  },
  {
   "cell_type": "markdown",
   "metadata": {},
   "source": [
    "As part of the Final Capstone Project, the course requires us to come up with a business problem and use foursquare and Machine learning techniques to solve it."
   ]
  },
  {
   "cell_type": "markdown",
   "metadata": {},
   "source": [
    "### Table of Contents\n",
    "1. [Introduction: Business Problem](#Intro)\n",
    "2. [Data: Requirements and collection](#Data)\n",
    "3. [Methodology](#Method)\n",
    "4. [Analysis](#Analysis)\n",
    "5. [Results and Discussion](#Result)\n",
    "6. [Conclusion](#Conclusion)\n",
    "\n",
    "\n",
    "**(section 3 till 6 will be covered in 5th week)**"
   ]
  },
  {
   "cell_type": "markdown",
   "metadata": {},
   "source": [
    "## Introduction: Business Problem <a id='Intro'></a>\n",
    "### \"Prospects of starting a Restaurant  by inspecting the Borough of Berlin\"\n",
    "\n",
    "Berlin is both a city and one of Germany’s federal states (city state). Since the 2001 administrative reform, it has been made up of twelve boroughs or districts, each with its own local government, though all boroughs are subject to Berlin’s city and state government.\n",
    "Each borough is governed by a council with five councillors and a borough mayor . The borough council is elected by the borough assembly. The borough governments' power is limited, and subordinate to the Berlin Senate. The borough mayors form a council of mayors, which advises the Senate.\n",
    "It's the largest city of Germany by both area and population. Its '3748148' inhabitants make it the second most populous city proper of the European Union after London. Area of Berlin is 891,1 sq km. Which is divided into 12 Boroughs.\n",
    "\n",
    "While looking for places to open a business, we need to select the busiest zones in Berlin where a constant crowd is guaranteed. In a city like Berlin there will be a huge competition for businesses. Keeping this in mind, the surrounding of the selected Borough should not have a lot of similar businesses. Analyzing the office areas of the Borough, it is expected that there will be a lot of restaurants.\n",
    "\n",
    "The Business Problem can be stated as:\n",
    "\n",
    "#### “What is the best place to open a Restaurant in Berlin?”\n",
    "\n",
    "<img src=\"https://www.irishtimes.com/polopoly_fs/1.2560676.1457115180!/image/image.jpg_gen/derivatives/box_620_330/image.jpg\" alt=\"drawing\" width=\"1000\"/>\n",
    "\n",
    "### Interest\n",
    "\n",
    "Some People spend alot of time in search for perfect oppertunity and place to open a resturant in any city. Hence understanding how good a neighborhood is for business it's one of the most important thing. As the population continues to increase, cities grows with that too with more oppertunity for busnisses. A descision if takeen in pressure or without proper investigation and data can cause a lot of trouble specially in the lose of money. So finding a good location for business is crucial and time consuming process. This study will give a glimpse for selection of neighborhood for resturant.\n",
    "\n",
    "\n",
    "### Target Audience:\n",
    "\n",
    "* The primary target audience for this project are definitely the entrepreneurs who want to open up a new business\n",
    "2. Investors who want to invest in good business ideas\n",
    "3. Students who are exploring Data Science and are trying to learn the art of telling a story by training, analyzing and learning from a data\n",
    " \n"
   ]
  },
  {
   "cell_type": "markdown",
   "metadata": {},
   "source": [
    "## Data: Requirements and collection <a id='Data'></a>\n",
    "\n",
    "1. **Zones Data** (along with Coordinates)\n",
    "    * **Requirement**: There are 12 borough in Berlin. The basic data required to start this project is the names of all these Boroughs along with their coordinates\n",
    "    * **Collection**: Web scape the data of Borough of Berlin using ‘BeautifulSoup’. Use ‘Python Geocoder’ to get the latitude and longitude values of these Boroughs.\n"
   ]
  },
  {
   "cell_type": "markdown",
   "metadata": {},
   "source": [
    "2. **Professional Venue Data**\n",
    "    * **Requirement**: From these 12 boroughs we need to find out which borough have the most professional venues like offices, hospitals, industries, factories etc. In other words, we need to know in which zones we will have a constant flow of people (customers).\n",
    "    * **Collection**: Using ‘Foursquare’ by giving a specific category ID we can find the most frequent professional venues in these 12 boroughs.\n"
   ]
  },
  {
   "cell_type": "markdown",
   "metadata": {},
   "source": [
    "3. **Nearby Venues Data**\n",
    "    * **Requirement**: We need to have an idea about the competition before we open a business. So, we need data about the most frequent venues nearby each selected zone.\n",
    "    * **Collection**: Explore the zones using ‘Foursquare’\n"
   ]
  },
  {
   "cell_type": "markdown",
   "metadata": {},
   "source": [
    "3. **Pricing Data**\n",
    "    * **Requirement**: Pricing data will help us in two ways:\n",
    "By giving us an estimate of the price values if you want to buy the land or rent it for the business.\n",
    "By giving us an idea about what kind of resident customers we are dealing with\n",
    "    * **Collection**: Websites have pricing data for boroughs of Berlin. (It is generally difficult to find accurate pricing data.)\n",
    "During the collection of data, Exploratory Data Analysis (Week2) is performed simultaneously to get more insights on it. \n",
    "Step by step lets understand the data."
   ]
  },
  {
   "cell_type": "code",
   "execution_count": null,
   "metadata": {},
   "outputs": [],
   "source": []
  }
 ],
 "metadata": {
  "kernelspec": {
   "display_name": "Python 3.6",
   "language": "python",
   "name": "python3"
  },
  "language_info": {
   "codemirror_mode": {
    "name": "ipython",
    "version": 3
   },
   "file_extension": ".py",
   "mimetype": "text/x-python",
   "name": "python",
   "nbconvert_exporter": "python",
   "pygments_lexer": "ipython3",
   "version": "3.6.8"
  }
 },
 "nbformat": 4,
 "nbformat_minor": 1
}
